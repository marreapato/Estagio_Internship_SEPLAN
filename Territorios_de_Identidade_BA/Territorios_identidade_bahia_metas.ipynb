{
  "nbformat": 4,
  "nbformat_minor": 0,
  "metadata": {
    "colab": {
      "name": "Territorios_identidade_bahia_metas.ipynb",
      "provenance": [],
      "collapsed_sections": []
    },
    "kernelspec": {
      "display_name": "Python 3",
      "name": "python3"
    },
    "language_info": {
      "name": "python"
    }
  },
  "cells": [
    {
      "cell_type": "markdown",
      "metadata": {
        "id": "LnyHcJkWJlsC"
      },
      "source": [
        "#instalando pacotes necessarios"
      ]
    },
    {
      "cell_type": "code",
      "metadata": {
        "colab": {
          "base_uri": "https://localhost:8080/"
        },
        "id": "s5PFkANCJbv7",
        "outputId": "1f841039-6e9e-4028-b62a-b410ec59a6d9"
      },
      "source": [
        "pip install geopandas"
      ],
      "execution_count": null,
      "outputs": [
        {
          "output_type": "stream",
          "text": [
            "Collecting geopandas\n",
            "  Downloading geopandas-0.9.0-py2.py3-none-any.whl (994 kB)\n",
            "\u001b[K     |████████████████████████████████| 994 kB 4.9 MB/s \n",
            "\u001b[?25hCollecting fiona>=1.8\n",
            "  Downloading Fiona-1.8.20-cp37-cp37m-manylinux1_x86_64.whl (15.4 MB)\n",
            "\u001b[K     |████████████████████████████████| 15.4 MB 36 kB/s \n",
            "\u001b[?25hCollecting pyproj>=2.2.0\n",
            "  Downloading pyproj-3.1.0-cp37-cp37m-manylinux2010_x86_64.whl (6.6 MB)\n",
            "\u001b[K     |████████████████████████████████| 6.6 MB 27.8 MB/s \n",
            "\u001b[?25hRequirement already satisfied: shapely>=1.6 in /usr/local/lib/python3.7/dist-packages (from geopandas) (1.7.1)\n",
            "Requirement already satisfied: pandas>=0.24.0 in /usr/local/lib/python3.7/dist-packages (from geopandas) (1.1.5)\n",
            "Requirement already satisfied: click>=4.0 in /usr/local/lib/python3.7/dist-packages (from fiona>=1.8->geopandas) (7.1.2)\n",
            "Requirement already satisfied: setuptools in /usr/local/lib/python3.7/dist-packages (from fiona>=1.8->geopandas) (57.2.0)\n",
            "Requirement already satisfied: six>=1.7 in /usr/local/lib/python3.7/dist-packages (from fiona>=1.8->geopandas) (1.15.0)\n",
            "Collecting cligj>=0.5\n",
            "  Downloading cligj-0.7.2-py3-none-any.whl (7.1 kB)\n",
            "Requirement already satisfied: certifi in /usr/local/lib/python3.7/dist-packages (from fiona>=1.8->geopandas) (2021.5.30)\n",
            "Requirement already satisfied: attrs>=17 in /usr/local/lib/python3.7/dist-packages (from fiona>=1.8->geopandas) (21.2.0)\n",
            "Collecting click-plugins>=1.0\n",
            "  Downloading click_plugins-1.1.1-py2.py3-none-any.whl (7.5 kB)\n",
            "Collecting munch\n",
            "  Downloading munch-2.5.0-py2.py3-none-any.whl (10 kB)\n",
            "Requirement already satisfied: pytz>=2017.2 in /usr/local/lib/python3.7/dist-packages (from pandas>=0.24.0->geopandas) (2018.9)\n",
            "Requirement already satisfied: numpy>=1.15.4 in /usr/local/lib/python3.7/dist-packages (from pandas>=0.24.0->geopandas) (1.19.5)\n",
            "Requirement already satisfied: python-dateutil>=2.7.3 in /usr/local/lib/python3.7/dist-packages (from pandas>=0.24.0->geopandas) (2.8.1)\n",
            "Installing collected packages: munch, cligj, click-plugins, pyproj, fiona, geopandas\n",
            "Successfully installed click-plugins-1.1.1 cligj-0.7.2 fiona-1.8.20 geopandas-0.9.0 munch-2.5.0 pyproj-3.1.0\n"
          ],
          "name": "stdout"
        }
      ]
    },
    {
      "cell_type": "code",
      "metadata": {
        "colab": {
          "base_uri": "https://localhost:8080/"
        },
        "id": "k5MQ2JY0i-yb",
        "outputId": "19fe40ec-b7d5-4c89-9152-383c999059ec"
      },
      "source": [
        "pip install hvplot"
      ],
      "execution_count": null,
      "outputs": [
        {
          "output_type": "stream",
          "text": [
            "Collecting hvplot\n",
            "  Downloading hvplot-0.7.3-py2.py3-none-any.whl (3.1 MB)\n",
            "\u001b[K     |████████████████████████████████| 3.1 MB 5.0 MB/s \n",
            "\u001b[?25hRequirement already satisfied: bokeh>=1.0.0 in /usr/local/lib/python3.7/dist-packages (from hvplot) (2.3.3)\n",
            "Requirement already satisfied: pandas in /usr/local/lib/python3.7/dist-packages (from hvplot) (1.1.5)\n",
            "Requirement already satisfied: colorcet>=2 in /usr/local/lib/python3.7/dist-packages (from hvplot) (2.0.6)\n",
            "Requirement already satisfied: numpy>=1.15 in /usr/local/lib/python3.7/dist-packages (from hvplot) (1.19.5)\n",
            "Requirement already satisfied: holoviews>=1.11.0 in /usr/local/lib/python3.7/dist-packages (from hvplot) (1.14.4)\n",
            "Requirement already satisfied: typing-extensions>=3.7.4 in /usr/local/lib/python3.7/dist-packages (from bokeh>=1.0.0->hvplot) (3.7.4.3)\n",
            "Requirement already satisfied: PyYAML>=3.10 in /usr/local/lib/python3.7/dist-packages (from bokeh>=1.0.0->hvplot) (3.13)\n",
            "Requirement already satisfied: pillow>=7.1.0 in /usr/local/lib/python3.7/dist-packages (from bokeh>=1.0.0->hvplot) (7.1.2)\n",
            "Requirement already satisfied: Jinja2>=2.9 in /usr/local/lib/python3.7/dist-packages (from bokeh>=1.0.0->hvplot) (2.11.3)\n",
            "Requirement already satisfied: packaging>=16.8 in /usr/local/lib/python3.7/dist-packages (from bokeh>=1.0.0->hvplot) (21.0)\n",
            "Requirement already satisfied: tornado>=5.1 in /usr/local/lib/python3.7/dist-packages (from bokeh>=1.0.0->hvplot) (5.1.1)\n",
            "Requirement already satisfied: python-dateutil>=2.1 in /usr/local/lib/python3.7/dist-packages (from bokeh>=1.0.0->hvplot) (2.8.1)\n",
            "Requirement already satisfied: pyct>=0.4.4 in /usr/local/lib/python3.7/dist-packages (from colorcet>=2->hvplot) (0.4.8)\n",
            "Requirement already satisfied: param>=1.7.0 in /usr/local/lib/python3.7/dist-packages (from colorcet>=2->hvplot) (1.11.1)\n",
            "Requirement already satisfied: pyviz-comms>=0.7.4 in /usr/local/lib/python3.7/dist-packages (from holoviews>=1.11.0->hvplot) (2.1.0)\n",
            "Requirement already satisfied: panel>=0.8.0 in /usr/local/lib/python3.7/dist-packages (from holoviews>=1.11.0->hvplot) (0.11.3)\n",
            "Requirement already satisfied: MarkupSafe>=0.23 in /usr/local/lib/python3.7/dist-packages (from Jinja2>=2.9->bokeh>=1.0.0->hvplot) (2.0.1)\n",
            "Requirement already satisfied: pyparsing>=2.0.2 in /usr/local/lib/python3.7/dist-packages (from packaging>=16.8->bokeh>=1.0.0->hvplot) (2.4.7)\n",
            "Requirement already satisfied: pytz>=2017.2 in /usr/local/lib/python3.7/dist-packages (from pandas->hvplot) (2018.9)\n",
            "Requirement already satisfied: requests in /usr/local/lib/python3.7/dist-packages (from panel>=0.8.0->holoviews>=1.11.0->hvplot) (2.23.0)\n",
            "Requirement already satisfied: markdown in /usr/local/lib/python3.7/dist-packages (from panel>=0.8.0->holoviews>=1.11.0->hvplot) (3.3.4)\n",
            "Requirement already satisfied: tqdm in /usr/local/lib/python3.7/dist-packages (from panel>=0.8.0->holoviews>=1.11.0->hvplot) (4.41.1)\n",
            "Requirement already satisfied: six>=1.5 in /usr/local/lib/python3.7/dist-packages (from python-dateutil>=2.1->bokeh>=1.0.0->hvplot) (1.15.0)\n",
            "Requirement already satisfied: importlib-metadata in /usr/local/lib/python3.7/dist-packages (from markdown->panel>=0.8.0->holoviews>=1.11.0->hvplot) (4.6.1)\n",
            "Requirement already satisfied: zipp>=0.5 in /usr/local/lib/python3.7/dist-packages (from importlib-metadata->markdown->panel>=0.8.0->holoviews>=1.11.0->hvplot) (3.5.0)\n",
            "Requirement already satisfied: urllib3!=1.25.0,!=1.25.1,<1.26,>=1.21.1 in /usr/local/lib/python3.7/dist-packages (from requests->panel>=0.8.0->holoviews>=1.11.0->hvplot) (1.24.3)\n",
            "Requirement already satisfied: idna<3,>=2.5 in /usr/local/lib/python3.7/dist-packages (from requests->panel>=0.8.0->holoviews>=1.11.0->hvplot) (2.10)\n",
            "Requirement already satisfied: certifi>=2017.4.17 in /usr/local/lib/python3.7/dist-packages (from requests->panel>=0.8.0->holoviews>=1.11.0->hvplot) (2021.5.30)\n",
            "Requirement already satisfied: chardet<4,>=3.0.2 in /usr/local/lib/python3.7/dist-packages (from requests->panel>=0.8.0->holoviews>=1.11.0->hvplot) (3.0.4)\n",
            "Installing collected packages: hvplot\n",
            "Successfully installed hvplot-0.7.3\n"
          ],
          "name": "stdout"
        }
      ]
    },
    {
      "cell_type": "code",
      "metadata": {
        "colab": {
          "base_uri": "https://localhost:8080/"
        },
        "id": "w7Ma2v6EjWIV",
        "outputId": "188f6e9c-4e41-4ffb-e923-3be6645c0926"
      },
      "source": [
        "pip install geoviews"
      ],
      "execution_count": null,
      "outputs": [
        {
          "output_type": "stream",
          "text": [
            "Collecting geoviews\n",
            "  Downloading geoviews-1.9.1-py2.py3-none-any.whl (502 kB)\n",
            "\u001b[K     |████████████████████████████████| 502 kB 5.1 MB/s \n",
            "\u001b[?25hRequirement already satisfied: bokeh<2.4,>=2.3.0 in /usr/local/lib/python3.7/dist-packages (from geoviews) (2.3.3)\n",
            "Requirement already satisfied: holoviews>=1.14.2 in /usr/local/lib/python3.7/dist-packages (from geoviews) (1.14.4)\n",
            "Collecting cartopy>=0.17.0\n",
            "  Downloading Cartopy-0.19.0.post1.tar.gz (12.1 MB)\n",
            "\u001b[K     |████████████████████████████████| 12.1 MB 145 kB/s \n",
            "\u001b[?25h  Installing build dependencies ... \u001b[?25l\u001b[?25hdone\n",
            "  Getting requirements to build wheel ... \u001b[?25l\u001b[?25hdone\n",
            "    Preparing wheel metadata ... \u001b[?25l\u001b[?25hdone\n",
            "Requirement already satisfied: tornado>=5.1 in /usr/local/lib/python3.7/dist-packages (from bokeh<2.4,>=2.3.0->geoviews) (5.1.1)\n",
            "Requirement already satisfied: python-dateutil>=2.1 in /usr/local/lib/python3.7/dist-packages (from bokeh<2.4,>=2.3.0->geoviews) (2.8.1)\n",
            "Requirement already satisfied: packaging>=16.8 in /usr/local/lib/python3.7/dist-packages (from bokeh<2.4,>=2.3.0->geoviews) (21.0)\n",
            "Requirement already satisfied: pillow>=7.1.0 in /usr/local/lib/python3.7/dist-packages (from bokeh<2.4,>=2.3.0->geoviews) (7.1.2)\n",
            "Requirement already satisfied: Jinja2>=2.9 in /usr/local/lib/python3.7/dist-packages (from bokeh<2.4,>=2.3.0->geoviews) (2.11.3)\n",
            "Requirement already satisfied: typing-extensions>=3.7.4 in /usr/local/lib/python3.7/dist-packages (from bokeh<2.4,>=2.3.0->geoviews) (3.7.4.3)\n",
            "Requirement already satisfied: PyYAML>=3.10 in /usr/local/lib/python3.7/dist-packages (from bokeh<2.4,>=2.3.0->geoviews) (3.13)\n",
            "Requirement already satisfied: numpy>=1.11.3 in /usr/local/lib/python3.7/dist-packages (from bokeh<2.4,>=2.3.0->geoviews) (1.19.5)\n",
            "Collecting pyshp>=2\n",
            "  Downloading pyshp-2.1.3.tar.gz (219 kB)\n",
            "\u001b[K     |████████████████████████████████| 219 kB 48.6 MB/s \n",
            "\u001b[?25hRequirement already satisfied: shapely>=1.5.6 in /usr/local/lib/python3.7/dist-packages (from cartopy>=0.17.0->geoviews) (1.7.0)\n",
            "Requirement already satisfied: colorcet in /usr/local/lib/python3.7/dist-packages (from holoviews>=1.14.2->geoviews) (2.0.6)\n",
            "Requirement already satisfied: param<2.0,>=1.9.3 in /usr/local/lib/python3.7/dist-packages (from holoviews>=1.14.2->geoviews) (1.11.1)\n",
            "Requirement already satisfied: panel>=0.8.0 in /usr/local/lib/python3.7/dist-packages (from holoviews>=1.14.2->geoviews) (0.11.3)\n",
            "Requirement already satisfied: pyviz-comms>=0.7.4 in /usr/local/lib/python3.7/dist-packages (from holoviews>=1.14.2->geoviews) (2.1.0)\n",
            "Requirement already satisfied: pandas>=0.20.0 in /usr/local/lib/python3.7/dist-packages (from holoviews>=1.14.2->geoviews) (1.1.5)\n",
            "Requirement already satisfied: MarkupSafe>=0.23 in /usr/local/lib/python3.7/dist-packages (from Jinja2>=2.9->bokeh<2.4,>=2.3.0->geoviews) (2.0.1)\n",
            "Requirement already satisfied: pyparsing>=2.0.2 in /usr/local/lib/python3.7/dist-packages (from packaging>=16.8->bokeh<2.4,>=2.3.0->geoviews) (2.4.7)\n",
            "Requirement already satisfied: pytz>=2017.2 in /usr/local/lib/python3.7/dist-packages (from pandas>=0.20.0->holoviews>=1.14.2->geoviews) (2018.9)\n",
            "Requirement already satisfied: requests in /usr/local/lib/python3.7/dist-packages (from panel>=0.8.0->holoviews>=1.14.2->geoviews) (2.23.0)\n",
            "Requirement already satisfied: markdown in /usr/local/lib/python3.7/dist-packages (from panel>=0.8.0->holoviews>=1.14.2->geoviews) (3.3.4)\n",
            "Requirement already satisfied: tqdm in /usr/local/lib/python3.7/dist-packages (from panel>=0.8.0->holoviews>=1.14.2->geoviews) (4.41.1)\n",
            "Requirement already satisfied: pyct>=0.4.4 in /usr/local/lib/python3.7/dist-packages (from panel>=0.8.0->holoviews>=1.14.2->geoviews) (0.4.8)\n",
            "Requirement already satisfied: six>=1.5 in /usr/local/lib/python3.7/dist-packages (from python-dateutil>=2.1->bokeh<2.4,>=2.3.0->geoviews) (1.15.0)\n",
            "Requirement already satisfied: importlib-metadata in /usr/local/lib/python3.7/dist-packages (from markdown->panel>=0.8.0->holoviews>=1.14.2->geoviews) (4.6.1)\n",
            "Requirement already satisfied: zipp>=0.5 in /usr/local/lib/python3.7/dist-packages (from importlib-metadata->markdown->panel>=0.8.0->holoviews>=1.14.2->geoviews) (3.5.0)\n",
            "Requirement already satisfied: urllib3!=1.25.0,!=1.25.1,<1.26,>=1.21.1 in /usr/local/lib/python3.7/dist-packages (from requests->panel>=0.8.0->holoviews>=1.14.2->geoviews) (1.24.3)\n",
            "Requirement already satisfied: certifi>=2017.4.17 in /usr/local/lib/python3.7/dist-packages (from requests->panel>=0.8.0->holoviews>=1.14.2->geoviews) (2021.5.30)\n",
            "Requirement already satisfied: idna<3,>=2.5 in /usr/local/lib/python3.7/dist-packages (from requests->panel>=0.8.0->holoviews>=1.14.2->geoviews) (2.10)\n",
            "Requirement already satisfied: chardet<4,>=3.0.2 in /usr/local/lib/python3.7/dist-packages (from requests->panel>=0.8.0->holoviews>=1.14.2->geoviews) (3.0.4)\n",
            "Building wheels for collected packages: cartopy, pyshp\n",
            "  Building wheel for cartopy (PEP 517) ... \u001b[?25l\u001b[?25hdone\n",
            "  Created wheel for cartopy: filename=Cartopy-0.19.0.post1-cp37-cp37m-linux_x86_64.whl size=12516270 sha256=29f3dbc9d14216caa2396dc51c753c94cf40efa543383c7a15df53c57d2d9c89\n",
            "  Stored in directory: /root/.cache/pip/wheels/98/01/f7/bd10aeb96fe4b518cde5f7c4f5e12c7202f85b7353a5017847\n",
            "  Building wheel for pyshp (setup.py) ... \u001b[?25l\u001b[?25hdone\n",
            "  Created wheel for pyshp: filename=pyshp-2.1.3-py3-none-any.whl size=37324 sha256=d08327abfe1dfdd3570d203626aa7d6f9175ac993ec52def6eaf91bfbec6dba0\n",
            "  Stored in directory: /root/.cache/pip/wheels/43/f8/87/53c8cd41545ba20e536ea29a8fcb5431b5f477ca50d5dffbbe\n",
            "Successfully built cartopy pyshp\n",
            "Installing collected packages: pyshp, cartopy, geoviews\n",
            "Successfully installed cartopy-0.19.0.post1 geoviews-1.9.1 pyshp-2.1.3\n"
          ],
          "name": "stdout"
        }
      ]
    },
    {
      "cell_type": "code",
      "metadata": {
        "id": "dpSvYuMQIshw"
      },
      "source": [
        "import pandas as pd\n",
        "import geopandas as gpd\n",
        "import seaborn as sns\n",
        "import matplotlib.pyplot as plt\n",
        "import numpy as np\n",
        "from openpyxl import load_workbook\n",
        "import matplotlib\n",
        "import fiona\n",
        "import hvplot.pandas\n",
        "import holoviews as hv"
      ],
      "execution_count": null,
      "outputs": []
    },
    {
      "cell_type": "markdown",
      "metadata": {
        "id": "UoZsk43NJtO6"
      },
      "source": [
        "Metas de segurança do Estado Da Bahia por território de Identidade\n"
      ]
    },
    {
      "cell_type": "code",
      "metadata": {
        "colab": {
          "base_uri": "https://localhost:8080/"
        },
        "id": "qonX6Pt_KHsj",
        "outputId": "6269e122-0b63-4542-e5bc-8b7baa272f2c"
      },
      "source": [
        "terrba=gpd.read_file('/content/REG_TI_MUN_A_100K_2019_05_14_GCS_SIR_SEI.zip')#territorios shp\n",
        "terrba['NM_TI']=terrba['NM_TI'].str.upper()\n",
        "terrba['NM_TI']"
      ],
      "execution_count": null,
      "outputs": [
        {
          "output_type": "execute_result",
          "data": {
            "text/plain": [
              "0                              IRECÊ\n",
              "1                        VELHO CHICO\n",
              "2                 CHAPADA DIAMANTINA\n",
              "3                              SISAL\n",
              "4                        LITORAL SUL\n",
              "5                          BAIXO SUL\n",
              "6                        EXTREMO SUL\n",
              "7            MÉDIO SUDOESTE DA BAHIA\n",
              "8                  VALE DO JIQUIRIÇÁ\n",
              "9            SERTÃO DO SÃO FRANCISCO\n",
              "10               BACIA DO RIO GRANDE\n",
              "11                BACIA DO PARAMIRIM\n",
              "12                  SERTÃO PRODUTIVO\n",
              "13             PIEMONTE DO PARAGUAÇU\n",
              "14                  BACIA DO JACUÍPE\n",
              "15            PIEMONTE DA DIAMANTINA\n",
              "16             SEMIÁRIDO NORDESTE II\n",
              "17    LITORAL NORTE E AGRESTE BAIANO\n",
              "18                  PORTAL DO SERTÃO\n",
              "19                   SUDOESTE BAIANO\n",
              "20                         RECÔNCAVO\n",
              "21               MÉDIO RIO DE CONTAS\n",
              "22             BACIA DO RIO CORRENTE\n",
              "23                         ITAPARICA\n",
              "24       PIEMONTE NORTE DO ITAPICURU\n",
              "25         METROPOLITANO DE SALVADOR\n",
              "26            COSTA DO DESCOBRIMENTO\n",
              "Name: NM_TI, dtype: object"
            ]
          },
          "metadata": {
            "tags": []
          },
          "execution_count": 91
        }
      ]
    },
    {
      "cell_type": "code",
      "metadata": {
        "colab": {
          "base_uri": "https://localhost:8080/",
          "height": 896
        },
        "id": "BFoKTq4KfWjR",
        "outputId": "be25d31e-43b5-4bea-d672-305e67be6114"
      },
      "source": [
        "wb = load_workbook(filename='Painel PPA Mobile_CompromissoTodos.xlsx', \n",
        "                   read_only=True)\n",
        "\n",
        "ws = wb['CompromissoTodos']\n",
        "\n",
        "# Read the cell values into a list of lists\n",
        "data_rows = []\n",
        "for row in ws['A32':'B59']:\n",
        "    data_cols = []\n",
        "    for cell in row:\n",
        "        data_cols.append(cell.value)\n",
        "    data_rows.append(data_cols)\n",
        "\n",
        "metas_seguranca = pd.DataFrame(data_rows)\n",
        "\n",
        "new_header = metas_seguranca.iloc[0] #grab the first row for the header\n",
        "metas_seguranca = metas_seguranca[1:] #take the data less the header row\n",
        "metas_seguranca.columns = new_header #set the header row as the df header\n",
        "metas_seguranca.iloc[25,0]='VALE DO JIQUIRIÇÁ'\n",
        "metas_seguranca"
      ],
      "execution_count": null,
      "outputs": [
        {
          "output_type": "execute_result",
          "data": {
            "text/html": [
              "<div>\n",
              "<style scoped>\n",
              "    .dataframe tbody tr th:only-of-type {\n",
              "        vertical-align: middle;\n",
              "    }\n",
              "\n",
              "    .dataframe tbody tr th {\n",
              "        vertical-align: top;\n",
              "    }\n",
              "\n",
              "    .dataframe thead th {\n",
              "        text-align: right;\n",
              "    }\n",
              "</style>\n",
              "<table border=\"1\" class=\"dataframe\">\n",
              "  <thead>\n",
              "    <tr style=\"text-align: right;\">\n",
              "      <th></th>\n",
              "      <th>Território(s)</th>\n",
              "      <th>Meta(s)</th>\n",
              "    </tr>\n",
              "  </thead>\n",
              "  <tbody>\n",
              "    <tr>\n",
              "      <th>1</th>\n",
              "      <td>BACIA DO JACUÍPE</td>\n",
              "      <td>7</td>\n",
              "    </tr>\n",
              "    <tr>\n",
              "      <th>2</th>\n",
              "      <td>BACIA DO PARAMIRIM</td>\n",
              "      <td>6</td>\n",
              "    </tr>\n",
              "    <tr>\n",
              "      <th>3</th>\n",
              "      <td>BACIA DO RIO CORRENTE</td>\n",
              "      <td>6</td>\n",
              "    </tr>\n",
              "    <tr>\n",
              "      <th>4</th>\n",
              "      <td>BACIA DO RIO GRANDE</td>\n",
              "      <td>14</td>\n",
              "    </tr>\n",
              "    <tr>\n",
              "      <th>5</th>\n",
              "      <td>BAIXO SUL</td>\n",
              "      <td>10</td>\n",
              "    </tr>\n",
              "    <tr>\n",
              "      <th>6</th>\n",
              "      <td>CHAPADA DIAMANTINA</td>\n",
              "      <td>7</td>\n",
              "    </tr>\n",
              "    <tr>\n",
              "      <th>7</th>\n",
              "      <td>COSTA DO DESCOBRIMENTO</td>\n",
              "      <td>13</td>\n",
              "    </tr>\n",
              "    <tr>\n",
              "      <th>8</th>\n",
              "      <td>EXTREMO SUL</td>\n",
              "      <td>15</td>\n",
              "    </tr>\n",
              "    <tr>\n",
              "      <th>9</th>\n",
              "      <td>IRECÊ</td>\n",
              "      <td>12</td>\n",
              "    </tr>\n",
              "    <tr>\n",
              "      <th>10</th>\n",
              "      <td>ITAPARICA</td>\n",
              "      <td>9</td>\n",
              "    </tr>\n",
              "    <tr>\n",
              "      <th>11</th>\n",
              "      <td>LITORAL NORTE E AGRESTE BAIANO</td>\n",
              "      <td>12</td>\n",
              "    </tr>\n",
              "    <tr>\n",
              "      <th>12</th>\n",
              "      <td>LITORAL SUL</td>\n",
              "      <td>19</td>\n",
              "    </tr>\n",
              "    <tr>\n",
              "      <th>13</th>\n",
              "      <td>MÉDIO RIO DE CONTAS</td>\n",
              "      <td>12</td>\n",
              "    </tr>\n",
              "    <tr>\n",
              "      <th>14</th>\n",
              "      <td>MÉDIO SUDOESTE DA BAHIA</td>\n",
              "      <td>3</td>\n",
              "    </tr>\n",
              "    <tr>\n",
              "      <th>15</th>\n",
              "      <td>METROPOLITANO DE SALVADOR</td>\n",
              "      <td>24</td>\n",
              "    </tr>\n",
              "    <tr>\n",
              "      <th>16</th>\n",
              "      <td>PIEMONTE DA DIAMANTINA</td>\n",
              "      <td>7</td>\n",
              "    </tr>\n",
              "    <tr>\n",
              "      <th>17</th>\n",
              "      <td>PIEMONTE DO PARAGUAÇU</td>\n",
              "      <td>11</td>\n",
              "    </tr>\n",
              "    <tr>\n",
              "      <th>18</th>\n",
              "      <td>PIEMONTE NORTE DO ITAPICURU</td>\n",
              "      <td>8</td>\n",
              "    </tr>\n",
              "    <tr>\n",
              "      <th>19</th>\n",
              "      <td>PORTAL DO SERTÃO</td>\n",
              "      <td>19</td>\n",
              "    </tr>\n",
              "    <tr>\n",
              "      <th>20</th>\n",
              "      <td>RECÔNCAVO</td>\n",
              "      <td>7</td>\n",
              "    </tr>\n",
              "    <tr>\n",
              "      <th>21</th>\n",
              "      <td>SEMIÁRIDO NORDESTE II</td>\n",
              "      <td>7</td>\n",
              "    </tr>\n",
              "    <tr>\n",
              "      <th>22</th>\n",
              "      <td>SERTÃO DO SÃO FRANCISCO</td>\n",
              "      <td>16</td>\n",
              "    </tr>\n",
              "    <tr>\n",
              "      <th>23</th>\n",
              "      <td>SERTÃO PRODUTIVO</td>\n",
              "      <td>8</td>\n",
              "    </tr>\n",
              "    <tr>\n",
              "      <th>24</th>\n",
              "      <td>SISAL</td>\n",
              "      <td>11</td>\n",
              "    </tr>\n",
              "    <tr>\n",
              "      <th>25</th>\n",
              "      <td>SUDOESTE BAIANO</td>\n",
              "      <td>16</td>\n",
              "    </tr>\n",
              "    <tr>\n",
              "      <th>26</th>\n",
              "      <td>VALE DO JIQUIRIÇÁ</td>\n",
              "      <td>5</td>\n",
              "    </tr>\n",
              "    <tr>\n",
              "      <th>27</th>\n",
              "      <td>VELHO CHICO</td>\n",
              "      <td>7</td>\n",
              "    </tr>\n",
              "  </tbody>\n",
              "</table>\n",
              "</div>"
            ],
            "text/plain": [
              "0                    Território(s) Meta(s)\n",
              "1                 BACIA DO JACUÍPE       7\n",
              "2               BACIA DO PARAMIRIM       6\n",
              "3            BACIA DO RIO CORRENTE       6\n",
              "4              BACIA DO RIO GRANDE      14\n",
              "5                        BAIXO SUL      10\n",
              "6               CHAPADA DIAMANTINA       7\n",
              "7           COSTA DO DESCOBRIMENTO      13\n",
              "8                      EXTREMO SUL      15\n",
              "9                            IRECÊ      12\n",
              "10                       ITAPARICA       9\n",
              "11  LITORAL NORTE E AGRESTE BAIANO      12\n",
              "12                     LITORAL SUL      19\n",
              "13             MÉDIO RIO DE CONTAS      12\n",
              "14         MÉDIO SUDOESTE DA BAHIA       3\n",
              "15       METROPOLITANO DE SALVADOR      24\n",
              "16          PIEMONTE DA DIAMANTINA       7\n",
              "17           PIEMONTE DO PARAGUAÇU      11\n",
              "18     PIEMONTE NORTE DO ITAPICURU       8\n",
              "19                PORTAL DO SERTÃO      19\n",
              "20                       RECÔNCAVO       7\n",
              "21           SEMIÁRIDO NORDESTE II       7\n",
              "22         SERTÃO DO SÃO FRANCISCO      16\n",
              "23                SERTÃO PRODUTIVO       8\n",
              "24                           SISAL      11\n",
              "25                 SUDOESTE BAIANO      16\n",
              "26               VALE DO JIQUIRIÇÁ       5\n",
              "27                     VELHO CHICO       7"
            ]
          },
          "metadata": {
            "tags": []
          },
          "execution_count": 87
        }
      ]
    },
    {
      "cell_type": "markdown",
      "metadata": {
        "id": "eQ7CnMVvgTV2"
      },
      "source": [
        "Juntando spatial e data frame\n"
      ]
    },
    {
      "cell_type": "code",
      "metadata": {
        "id": "xJHKK0uHgWSD"
      },
      "source": [
        "meta_seg=pd.merge(left=terrba, right=metas_seguranca, left_on='NM_TI', right_on='Território(s)')\n",
        "meta_seg['Meta(s)']=pd.to_numeric(meta_seg['Meta(s)'])"
      ],
      "execution_count": null,
      "outputs": []
    },
    {
      "cell_type": "code",
      "metadata": {
        "colab": {
          "base_uri": "https://localhost:8080/",
          "height": 584
        },
        "id": "cQhKJY3Hg8lG",
        "outputId": "869a48ff-dc70-4e9d-8474-c4f2a5cebe52"
      },
      "source": [
        "meta_seg.plot(column='Meta(s)',legend=True,cmap=\"OrRd\",figsize=(15, 10),legend_kwds={'label': \"Quantidade de Metas de Segurança Pública por Território de Identidade da Bahia\",\n",
        "                    'orientation': \"horizontal\"})"
      ],
      "execution_count": null,
      "outputs": [
        {
          "output_type": "execute_result",
          "data": {
            "text/plain": [
              "<matplotlib.axes._subplots.AxesSubplot at 0x7f6bddec9690>"
            ]
          },
          "metadata": {
            "tags": []
          },
          "execution_count": 106
        },
        {
          "output_type": "display_data",
          "data": {
            "image/png": "[encoded data removed]",
            "text/plain": [
              "<Figure size 1080x720 with 2 Axes>"
            ]
          },
          "metadata": {
            "tags": [],
            "needs_background": "light"
          }
        }
      ]
    },
    {
      "cell_type": "markdown",
      "metadata": {
        "id": "O7YszUTCu8tn"
      },
      "source": [
        "Plot Interativo das Metas de Segurança por território de Identidade do Estado da Bahia"
      ]
    },
    {
      "cell_type": "code",
      "metadata": {
        "id": "6diN_NOKieXv"
      },
      "source": [
        "fig=meta_seg.hvplot(c='Meta(s)',hover_cols='Território(s)',\n",
        "                             width=900,height=500,\n",
        "                             line_color=\"Meta(s)\",\n",
        "                             cmap=\"YlOrRd\",\n",
        "                             hover_fill_color=\"white\",\n",
        "                             line_width=2,\n",
        "                             title=\"Metas De Segurança Por Território de Identidade da Bahia\")\n",
        "hvplot.save(fig,\"Metas_ Seguranca.html\")"
      ],
      "execution_count": 163,
      "outputs": []
    },
    {
      "cell_type": "markdown",
      "metadata": {
        "id": "jl4IJUgP1FFW"
      },
      "source": [
        "# Metas de Infraestrutura"
      ]
    },
    {
      "cell_type": "code",
      "metadata": {
        "colab": {
          "base_uri": "https://localhost:8080/",
          "height": 896
        },
        "id": "t4d8PfK01R6a",
        "outputId": "19d7e7aa-defc-484e-f649-9ccc1f46bdcf"
      },
      "source": [
        "wb = load_workbook(filename='/PPA_metas_infraestrutura.xlsx', \n",
        "                   read_only=True)\n",
        "\n",
        "ws = wb['CompromissoTodos']\n",
        "\n",
        "# Read the cell values into a list of lists\n",
        "data_rows = []\n",
        "for row in ws['A28':'B55']:\n",
        "    data_cols = []\n",
        "    for cell in row:\n",
        "        data_cols.append(cell.value)\n",
        "    data_rows.append(data_cols)\n",
        "\n",
        "metas_infra = pd.DataFrame(data_rows)\n",
        "\n",
        "new_header = metas_infra.iloc[0] #grab the first row for the header\n",
        "metas_infra = metas_infra[1:] #take the data less the header row\n",
        "metas_infra.columns = new_header #set the header row as the df header\n",
        "metas_infra.iloc[25,0]='VALE DO JIQUIRIÇÁ'\n",
        "metas_infra"
      ],
      "execution_count": 166,
      "outputs": [
        {
          "output_type": "execute_result",
          "data": {
            "text/html": [
              "<div>\n",
              "<style scoped>\n",
              "    .dataframe tbody tr th:only-of-type {\n",
              "        vertical-align: middle;\n",
              "    }\n",
              "\n",
              "    .dataframe tbody tr th {\n",
              "        vertical-align: top;\n",
              "    }\n",
              "\n",
              "    .dataframe thead th {\n",
              "        text-align: right;\n",
              "    }\n",
              "</style>\n",
              "<table border=\"1\" class=\"dataframe\">\n",
              "  <thead>\n",
              "    <tr style=\"text-align: right;\">\n",
              "      <th></th>\n",
              "      <th>Território(s)</th>\n",
              "      <th>Meta(s)</th>\n",
              "    </tr>\n",
              "  </thead>\n",
              "  <tbody>\n",
              "    <tr>\n",
              "      <th>1</th>\n",
              "      <td>BACIA DO JACUÍPE</td>\n",
              "      <td>5</td>\n",
              "    </tr>\n",
              "    <tr>\n",
              "      <th>2</th>\n",
              "      <td>BACIA DO PARAMIRIM</td>\n",
              "      <td>6</td>\n",
              "    </tr>\n",
              "    <tr>\n",
              "      <th>3</th>\n",
              "      <td>BACIA DO RIO CORRENTE</td>\n",
              "      <td>6</td>\n",
              "    </tr>\n",
              "    <tr>\n",
              "      <th>4</th>\n",
              "      <td>BACIA DO RIO GRANDE</td>\n",
              "      <td>8</td>\n",
              "    </tr>\n",
              "    <tr>\n",
              "      <th>5</th>\n",
              "      <td>BAIXO SUL</td>\n",
              "      <td>7</td>\n",
              "    </tr>\n",
              "    <tr>\n",
              "      <th>6</th>\n",
              "      <td>CHAPADA DIAMANTINA</td>\n",
              "      <td>9</td>\n",
              "    </tr>\n",
              "    <tr>\n",
              "      <th>7</th>\n",
              "      <td>COSTA DO DESCOBRIMENTO</td>\n",
              "      <td>8</td>\n",
              "    </tr>\n",
              "    <tr>\n",
              "      <th>8</th>\n",
              "      <td>EXTREMO SUL</td>\n",
              "      <td>9</td>\n",
              "    </tr>\n",
              "    <tr>\n",
              "      <th>9</th>\n",
              "      <td>IRECÊ</td>\n",
              "      <td>8</td>\n",
              "    </tr>\n",
              "    <tr>\n",
              "      <th>10</th>\n",
              "      <td>ITAPARICA</td>\n",
              "      <td>6</td>\n",
              "    </tr>\n",
              "    <tr>\n",
              "      <th>11</th>\n",
              "      <td>LITORAL NORTE E AGRESTE BAIANO</td>\n",
              "      <td>6</td>\n",
              "    </tr>\n",
              "    <tr>\n",
              "      <th>12</th>\n",
              "      <td>LITORAL SUL</td>\n",
              "      <td>11</td>\n",
              "    </tr>\n",
              "    <tr>\n",
              "      <th>13</th>\n",
              "      <td>MÉDIO RIO DE CONTAS</td>\n",
              "      <td>6</td>\n",
              "    </tr>\n",
              "    <tr>\n",
              "      <th>14</th>\n",
              "      <td>MÉDIO SUDOESTE DA BAHIA</td>\n",
              "      <td>6</td>\n",
              "    </tr>\n",
              "    <tr>\n",
              "      <th>15</th>\n",
              "      <td>METROPOLITANO DE SALVADOR</td>\n",
              "      <td>9</td>\n",
              "    </tr>\n",
              "    <tr>\n",
              "      <th>16</th>\n",
              "      <td>PIEMONTE DA DIAMANTINA</td>\n",
              "      <td>6</td>\n",
              "    </tr>\n",
              "    <tr>\n",
              "      <th>17</th>\n",
              "      <td>PIEMONTE DO PARAGUAÇU</td>\n",
              "      <td>7</td>\n",
              "    </tr>\n",
              "    <tr>\n",
              "      <th>18</th>\n",
              "      <td>PIEMONTE NORTE DO ITAPICURU</td>\n",
              "      <td>8</td>\n",
              "    </tr>\n",
              "    <tr>\n",
              "      <th>19</th>\n",
              "      <td>PORTAL DO SERTÃO</td>\n",
              "      <td>7</td>\n",
              "    </tr>\n",
              "    <tr>\n",
              "      <th>20</th>\n",
              "      <td>RECÔNCAVO</td>\n",
              "      <td>8</td>\n",
              "    </tr>\n",
              "    <tr>\n",
              "      <th>21</th>\n",
              "      <td>SEMIÁRIDO NORDESTE II</td>\n",
              "      <td>5</td>\n",
              "    </tr>\n",
              "    <tr>\n",
              "      <th>22</th>\n",
              "      <td>SERTÃO DO SÃO FRANCISCO</td>\n",
              "      <td>8</td>\n",
              "    </tr>\n",
              "    <tr>\n",
              "      <th>23</th>\n",
              "      <td>SERTÃO PRODUTIVO</td>\n",
              "      <td>7</td>\n",
              "    </tr>\n",
              "    <tr>\n",
              "      <th>24</th>\n",
              "      <td>SISAL</td>\n",
              "      <td>6</td>\n",
              "    </tr>\n",
              "    <tr>\n",
              "      <th>25</th>\n",
              "      <td>SUDOESTE BAIANO</td>\n",
              "      <td>7</td>\n",
              "    </tr>\n",
              "    <tr>\n",
              "      <th>26</th>\n",
              "      <td>VALE DO JIQUIRIÇÁ</td>\n",
              "      <td>6</td>\n",
              "    </tr>\n",
              "    <tr>\n",
              "      <th>27</th>\n",
              "      <td>VELHO CHICO</td>\n",
              "      <td>10</td>\n",
              "    </tr>\n",
              "  </tbody>\n",
              "</table>\n",
              "</div>"
            ],
            "text/plain": [
              "0                    Território(s) Meta(s)\n",
              "1                 BACIA DO JACUÍPE       5\n",
              "2               BACIA DO PARAMIRIM       6\n",
              "3            BACIA DO RIO CORRENTE       6\n",
              "4              BACIA DO RIO GRANDE       8\n",
              "5                        BAIXO SUL       7\n",
              "6               CHAPADA DIAMANTINA       9\n",
              "7           COSTA DO DESCOBRIMENTO       8\n",
              "8                      EXTREMO SUL       9\n",
              "9                            IRECÊ       8\n",
              "10                       ITAPARICA       6\n",
              "11  LITORAL NORTE E AGRESTE BAIANO       6\n",
              "12                     LITORAL SUL      11\n",
              "13             MÉDIO RIO DE CONTAS       6\n",
              "14         MÉDIO SUDOESTE DA BAHIA       6\n",
              "15       METROPOLITANO DE SALVADOR       9\n",
              "16          PIEMONTE DA DIAMANTINA       6\n",
              "17           PIEMONTE DO PARAGUAÇU       7\n",
              "18     PIEMONTE NORTE DO ITAPICURU       8\n",
              "19                PORTAL DO SERTÃO       7\n",
              "20                       RECÔNCAVO       8\n",
              "21           SEMIÁRIDO NORDESTE II       5\n",
              "22         SERTÃO DO SÃO FRANCISCO       8\n",
              "23                SERTÃO PRODUTIVO       7\n",
              "24                           SISAL       6\n",
              "25                 SUDOESTE BAIANO       7\n",
              "26               VALE DO JIQUIRIÇÁ       6\n",
              "27                     VELHO CHICO      10"
            ]
          },
          "metadata": {
            "tags": []
          },
          "execution_count": 166
        }
      ]
    },
    {
      "cell_type": "code",
      "metadata": {
        "colab": {
          "base_uri": "https://localhost:8080/",
          "height": 584
        },
        "id": "kifcBC3f2BRc",
        "outputId": "f9394f25-557b-419e-d22e-68d2fba27093"
      },
      "source": [
        "meta_inf=pd.merge(left=terrba, right=metas_infra, left_on='NM_TI', right_on='Território(s)')\n",
        "meta_inf['Meta(s)']=pd.to_numeric(meta_inf['Meta(s)'])\n",
        "meta_inf.plot(column='Meta(s)',legend=True,cmap=\"Blues\",figsize=(15, 10),legend_kwds={'label': \"Quantidade de Metas de Segurança Pública por Território de Identidade da Bahia\",\n",
        "                    'orientation': \"horizontal\"})"
      ],
      "execution_count": 177,
      "outputs": [
        {
          "output_type": "execute_result",
          "data": {
            "text/plain": [
              "<matplotlib.axes._subplots.AxesSubplot at 0x7f6bd5162d10>"
            ]
          },
          "metadata": {
            "tags": []
          },
          "execution_count": 177
        },
        {
          "output_type": "display_data",
          "data": {
            "image/png": "[encoded data removed]",
            "text/plain": [
              "<Figure size 1080x720 with 2 Axes>"
            ]
          },
          "metadata": {
            "tags": [],
            "needs_background": "light"
          }
        }
      ]
    },
    {
      "cell_type": "code",
      "metadata": {
        "id": "GiBABP5m2djj"
      },
      "source": [
        "#plot interativo\n",
        "fig=meta_inf.hvplot(c='Meta(s)',hover_cols='Território(s)',\n",
        "                             width=900,height=500,\n",
        "                             line_color=\"Meta(s)\",\n",
        "                             cmap=\"Blues\",\n",
        "                             hover_fill_color=\"white\",\n",
        "                             line_width=2,\n",
        "                             title=\"Metas De Infraestrutura Por Território de Identidade da Bahia\")\n",
        "hvplot.save(fig,\"Metas_ Infraestrutura.html\")\n"
      ],
      "execution_count": 178,
      "outputs": []
    }
  ]
}